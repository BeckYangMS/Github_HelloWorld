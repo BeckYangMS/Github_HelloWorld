{
  "nbformat": 4,
  "nbformat_minor": 0,
  "metadata": {
    "colab": {
      "name": "MarkDown.ipynb",
      "provenance": [],
      "collapsed_sections": [],
      "authorship_tag": "ABX9TyNxje0iGrXyr3wnIa6TlwF0",
      "include_colab_link": true
    },
    "kernelspec": {
      "name": "python3",
      "display_name": "Python 3"
    }
  },
  "cells": [
    {
      "cell_type": "markdown",
      "metadata": {
        "id": "view-in-github",
        "colab_type": "text"
      },
      "source": [
        "<a href=\"https://colab.research.google.com/github/BeckYangMS/Github_HelloWorld/blob/main/MarkDown.ipynb\" target=\"_parent\"><img src=\"https://colab.research.google.com/assets/colab-badge.svg\" alt=\"Open In Colab\"/></a>"
      ]
    },
    {
      "cell_type": "markdown",
      "metadata": {
        "id": "2RPbxl7PbXR5"
      },
      "source": [
        "*One start*"
      ]
    },
    {
      "cell_type": "markdown",
      "metadata": {
        "id": "h9jQGDBabxnM"
      },
      "source": [
        "_underline_"
      ]
    },
    {
      "cell_type": "markdown",
      "metadata": {
        "id": "zxPU5tYTbgZb"
      },
      "source": [
        "**Two star**"
      ]
    },
    {
      "cell_type": "markdown",
      "metadata": {
        "id": "K-TkztNKb7sS"
      },
      "source": [
        "~~two wave~~"
      ]
    },
    {
      "cell_type": "markdown",
      "metadata": {
        "id": "cawxNNLKcDUO"
      },
      "source": [
        "`Mono space`"
      ]
    },
    {
      "cell_type": "markdown",
      "metadata": {
        "id": "syGEIXQ4catg"
      },
      "source": [
        ">One level indentation\n",
        ">>Two level indentation\n"
      ]
    },
    {
      "cell_type": "markdown",
      "metadata": {
        "id": "ey_EBw7PcnRn"
      },
      "source": [
        "List:\n",
        "1. A\n",
        "2. B\n",
        "3. C"
      ]
    },
    {
      "cell_type": "markdown",
      "metadata": {
        "id": "dAuhCpUycuu8"
      },
      "source": [
        "https://www.baidu.com"
      ]
    },
    {
      "cell_type": "markdown",
      "metadata": {
        "id": "fvuSUUOBdFvp"
      },
      "source": [
        "[Baidu](http://www.baidu.com)"
      ]
    },
    {
      "cell_type": "markdown",
      "metadata": {
        "id": "bhIaQWINdYTO"
      },
      "source": [
        " ![Google's logo](https://www.google.com/images/logos/google_logo_41.png)"
      ]
    },
    {
      "cell_type": "markdown",
      "metadata": {
        "id": "ZnNMPOntdsL5"
      },
      "source": [
        "Equations:\n",
        "\n",
        ">$y=x^2$\n",
        "\n",
        ">$e^{i\\pi} + 1 = 0$\n",
        "\n",
        ">$e^x=\\sum_{i=0}^\\infty \\frac{1}{i!}x^i$\n",
        "\n",
        ">$\\frac{n!}{k!(n-k)!} = {n \\choose k}$\n",
        "\n",
        ">$A_{m,n} =\n",
        " \\begin{pmatrix}\n",
        "  a_{1,1} & a_{1,2} & \\cdots & a_{1,n} \\\\\n",
        "  a_{2,1} & a_{2,2} & \\cdots & a_{2,n} \\\\\n",
        "  \\vdots  & \\vdots  & \\ddots & \\vdots  \\\\\n",
        "  a_{m,1} & a_{m,2} & \\cdots & a_{m,n}\n",
        " \\end{pmatrix}$\n",
        "\n",
        "Tables:\n",
        ">```\n",
        "First column name | Second column name\n",
        "--- | ---\n",
        "Row 1, Col 1 | Row 1, Col 2\n",
        "Row 2, Col 1 | Row 2, Col 2\n",
        "```\n",
        "\n",
        "becomes:\n",
        "\n",
        ">First column name | Second column name\n",
        ">--- | ---\n",
        ">Row 1, Col 1 | Row 1, Col 2\n",
        ">Row 2, Col 1 | Row 2, Col 2\n",
        "\n",
        "Horizontal rule done with three dashes (\\-\\-\\-):\n",
        "\n",
        "---\n"
      ]
    }
  ]
}